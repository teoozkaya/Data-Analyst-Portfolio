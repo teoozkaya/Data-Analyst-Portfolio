{
 "cells": [
  {
   "cell_type": "code",
   "execution_count": 9,
   "metadata": {},
   "outputs": [],
   "source": [
    "import numpy as np\n",
    "import pandas as pd\n",
    "import matplotlib.pyplot as plt\n",
    "import seaborn as sns\n",
    "import warnings\n",
    "warnings.filterwarnings('ignore')"
   ]
  },
  {
   "cell_type": "code",
   "execution_count": 89,
   "metadata": {},
   "outputs": [],
   "source": [
    "df = pd.read_csv('imdb_top_2000_movies.csv')"
   ]
  },
  {
   "cell_type": "code",
   "execution_count": 90,
   "metadata": {},
   "outputs": [
    {
     "data": {
      "text/html": [
       "<div>\n",
       "<style scoped>\n",
       "    .dataframe tbody tr th:only-of-type {\n",
       "        vertical-align: middle;\n",
       "    }\n",
       "\n",
       "    .dataframe tbody tr th {\n",
       "        vertical-align: top;\n",
       "    }\n",
       "\n",
       "    .dataframe thead th {\n",
       "        text-align: right;\n",
       "    }\n",
       "</style>\n",
       "<table border=\"1\" class=\"dataframe\">\n",
       "  <thead>\n",
       "    <tr style=\"text-align: right;\">\n",
       "      <th></th>\n",
       "      <th>Movie Name</th>\n",
       "      <th>Release Year</th>\n",
       "      <th>Duration</th>\n",
       "      <th>IMDB Rating</th>\n",
       "      <th>Metascore</th>\n",
       "      <th>Votes</th>\n",
       "      <th>Genre</th>\n",
       "      <th>Director</th>\n",
       "      <th>Cast</th>\n",
       "      <th>Gross</th>\n",
       "    </tr>\n",
       "  </thead>\n",
       "  <tbody>\n",
       "    <tr>\n",
       "      <th>0</th>\n",
       "      <td>The Godfather</td>\n",
       "      <td>1972</td>\n",
       "      <td>175</td>\n",
       "      <td>9.2</td>\n",
       "      <td>100.0</td>\n",
       "      <td>2,002,655</td>\n",
       "      <td>Crime, Drama</td>\n",
       "      <td>Francis Ford Coppola</td>\n",
       "      <td>Marlon Brando</td>\n",
       "      <td>$134.97M</td>\n",
       "    </tr>\n",
       "    <tr>\n",
       "      <th>1</th>\n",
       "      <td>The Godfather Part II</td>\n",
       "      <td>1974</td>\n",
       "      <td>202</td>\n",
       "      <td>9.0</td>\n",
       "      <td>90.0</td>\n",
       "      <td>1,358,608</td>\n",
       "      <td>Crime, Drama</td>\n",
       "      <td>Francis Ford Coppola</td>\n",
       "      <td>Al Pacino</td>\n",
       "      <td>$57.30M</td>\n",
       "    </tr>\n",
       "    <tr>\n",
       "      <th>2</th>\n",
       "      <td>Ordinary People</td>\n",
       "      <td>1980</td>\n",
       "      <td>124</td>\n",
       "      <td>7.7</td>\n",
       "      <td>86.0</td>\n",
       "      <td>56,476</td>\n",
       "      <td>Drama</td>\n",
       "      <td>Robert Redford</td>\n",
       "      <td>Donald Sutherland</td>\n",
       "      <td>$54.80M</td>\n",
       "    </tr>\n",
       "    <tr>\n",
       "      <th>3</th>\n",
       "      <td>Lawrence of Arabia</td>\n",
       "      <td>1962</td>\n",
       "      <td>218</td>\n",
       "      <td>8.3</td>\n",
       "      <td>100.0</td>\n",
       "      <td>313,044</td>\n",
       "      <td>Adventure, Biography, Drama</td>\n",
       "      <td>David Lean</td>\n",
       "      <td>Peter O'Toole</td>\n",
       "      <td>$44.82M</td>\n",
       "    </tr>\n",
       "    <tr>\n",
       "      <th>4</th>\n",
       "      <td>Straw Dogs</td>\n",
       "      <td>1971</td>\n",
       "      <td>113</td>\n",
       "      <td>7.4</td>\n",
       "      <td>73.0</td>\n",
       "      <td>64,331</td>\n",
       "      <td>Crime, Drama, Thriller</td>\n",
       "      <td>Sam Peckinpah</td>\n",
       "      <td>Dustin Hoffman</td>\n",
       "      <td>NaN</td>\n",
       "    </tr>\n",
       "  </tbody>\n",
       "</table>\n",
       "</div>"
      ],
      "text/plain": [
       "              Movie Name Release Year  Duration  IMDB Rating  Metascore  \\\n",
       "0          The Godfather         1972       175          9.2      100.0   \n",
       "1  The Godfather Part II         1974       202          9.0       90.0   \n",
       "2        Ordinary People         1980       124          7.7       86.0   \n",
       "3     Lawrence of Arabia         1962       218          8.3      100.0   \n",
       "4             Straw Dogs         1971       113          7.4       73.0   \n",
       "\n",
       "       Votes                        Genre              Director  \\\n",
       "0  2,002,655                 Crime, Drama  Francis Ford Coppola   \n",
       "1  1,358,608                 Crime, Drama  Francis Ford Coppola   \n",
       "2     56,476                        Drama        Robert Redford   \n",
       "3    313,044  Adventure, Biography, Drama            David Lean   \n",
       "4     64,331       Crime, Drama, Thriller         Sam Peckinpah   \n",
       "\n",
       "                Cast     Gross  \n",
       "0      Marlon Brando  $134.97M  \n",
       "1          Al Pacino   $57.30M  \n",
       "2  Donald Sutherland   $54.80M  \n",
       "3      Peter O'Toole   $44.82M  \n",
       "4     Dustin Hoffman       NaN  "
      ]
     },
     "execution_count": 90,
     "metadata": {},
     "output_type": "execute_result"
    }
   ],
   "source": [
    "df.head()"
   ]
  },
  {
   "cell_type": "code",
   "execution_count": 91,
   "metadata": {},
   "outputs": [
    {
     "name": "stdout",
     "output_type": "stream",
     "text": [
      "<class 'pandas.core.frame.DataFrame'>\n",
      "RangeIndex: 2000 entries, 0 to 1999\n",
      "Data columns (total 10 columns):\n",
      " #   Column        Non-Null Count  Dtype  \n",
      "---  ------        --------------  -----  \n",
      " 0   Movie Name    2000 non-null   object \n",
      " 1   Release Year  2000 non-null   object \n",
      " 2   Duration      2000 non-null   int64  \n",
      " 3   IMDB Rating   2000 non-null   float64\n",
      " 4   Metascore     1919 non-null   float64\n",
      " 5   Votes         2000 non-null   object \n",
      " 6   Genre         2000 non-null   object \n",
      " 7   Director      2000 non-null   object \n",
      " 8   Cast          2000 non-null   object \n",
      " 9   Gross         1903 non-null   object \n",
      "dtypes: float64(2), int64(1), object(7)\n",
      "memory usage: 156.4+ KB\n"
     ]
    }
   ],
   "source": [
    "df.info()"
   ]
  },
  {
   "cell_type": "code",
   "execution_count": 92,
   "metadata": {},
   "outputs": [
    {
     "data": {
      "text/plain": [
       "(2000, 10)"
      ]
     },
     "execution_count": 92,
     "metadata": {},
     "output_type": "execute_result"
    }
   ],
   "source": [
    "df.shape"
   ]
  },
  {
   "cell_type": "markdown",
   "metadata": {},
   "source": [
    "## Prepping the data\n",
    "### Removing NAN values"
   ]
  },
  {
   "cell_type": "code",
   "execution_count": 93,
   "metadata": {},
   "outputs": [
    {
     "data": {
      "text/plain": [
       "Movie Name       0\n",
       "Release Year     0\n",
       "Duration         0\n",
       "IMDB Rating      0\n",
       "Metascore       81\n",
       "Votes            0\n",
       "Genre            0\n",
       "Director         0\n",
       "Cast             0\n",
       "Gross           97\n",
       "dtype: int64"
      ]
     },
     "execution_count": 93,
     "metadata": {},
     "output_type": "execute_result"
    }
   ],
   "source": [
    "df.isna().sum()"
   ]
  },
  {
   "cell_type": "code",
   "execution_count": 94,
   "metadata": {},
   "outputs": [],
   "source": [
    "df.dropna(subset= 'Gross', axis= 0, inplace= True)"
   ]
  },
  {
   "cell_type": "code",
   "execution_count": 95,
   "metadata": {},
   "outputs": [
    {
     "data": {
      "text/plain": [
       "(1903, 10)"
      ]
     },
     "execution_count": 95,
     "metadata": {},
     "output_type": "execute_result"
    }
   ],
   "source": [
    "df.shape"
   ]
  },
  {
   "cell_type": "code",
   "execution_count": 96,
   "metadata": {},
   "outputs": [
    {
     "data": {
      "text/plain": [
       "Movie Name       0\n",
       "Release Year     0\n",
       "Duration         0\n",
       "IMDB Rating      0\n",
       "Metascore       33\n",
       "Votes            0\n",
       "Genre            0\n",
       "Director         0\n",
       "Cast             0\n",
       "Gross            0\n",
       "dtype: int64"
      ]
     },
     "execution_count": 96,
     "metadata": {},
     "output_type": "execute_result"
    }
   ],
   "source": [
    "df.isna().sum()"
   ]
  },
  {
   "cell_type": "markdown",
   "metadata": {},
   "source": [
    "### Correcting Year Column"
   ]
  },
  {
   "cell_type": "code",
   "execution_count": 97,
   "metadata": {},
   "outputs": [],
   "source": [
    "df = df[df['Release Year'].astype(str).apply(len) == 4]"
   ]
  },
  {
   "cell_type": "code",
   "execution_count": 98,
   "metadata": {},
   "outputs": [
    {
     "data": {
      "text/plain": [
       "(1842, 10)"
      ]
     },
     "execution_count": 98,
     "metadata": {},
     "output_type": "execute_result"
    }
   ],
   "source": [
    "df.shape"
   ]
  },
  {
   "cell_type": "markdown",
   "metadata": {},
   "source": [
    "### Correcting Data Format"
   ]
  },
  {
   "cell_type": "code",
   "execution_count": 99,
   "metadata": {},
   "outputs": [],
   "source": [
    "df['Votes'] = df['Votes'].str.replace(',', '').astype('int')"
   ]
  },
  {
   "cell_type": "code",
   "execution_count": 100,
   "metadata": {},
   "outputs": [],
   "source": [
    "df['Gross'] = df['Gross'].str.replace('$', '').str.replace('M', '').astype('float') * 100000"
   ]
  },
  {
   "cell_type": "code",
   "execution_count": 101,
   "metadata": {},
   "outputs": [],
   "source": [
    "df[['Release Year']] = df[['Release Year']].astype('int')\n"
   ]
  },
  {
   "cell_type": "code",
   "execution_count": 85,
   "metadata": {},
   "outputs": [
    {
     "data": {
      "text/html": [
       "<div>\n",
       "<style scoped>\n",
       "    .dataframe tbody tr th:only-of-type {\n",
       "        vertical-align: middle;\n",
       "    }\n",
       "\n",
       "    .dataframe tbody tr th {\n",
       "        vertical-align: top;\n",
       "    }\n",
       "\n",
       "    .dataframe thead th {\n",
       "        text-align: right;\n",
       "    }\n",
       "</style>\n",
       "<table border=\"1\" class=\"dataframe\">\n",
       "  <thead>\n",
       "    <tr style=\"text-align: right;\">\n",
       "      <th></th>\n",
       "      <th>Movie Name</th>\n",
       "      <th>Release Year</th>\n",
       "      <th>Duration</th>\n",
       "      <th>IMDB Rating</th>\n",
       "      <th>Metascore</th>\n",
       "      <th>Votes</th>\n",
       "      <th>Genre</th>\n",
       "      <th>Director</th>\n",
       "      <th>Cast</th>\n",
       "      <th>Gross</th>\n",
       "    </tr>\n",
       "  </thead>\n",
       "  <tbody>\n",
       "    <tr>\n",
       "      <th>0</th>\n",
       "      <td>The Godfather</td>\n",
       "      <td>1972</td>\n",
       "      <td>175</td>\n",
       "      <td>9.2</td>\n",
       "      <td>100.0</td>\n",
       "      <td>2002655</td>\n",
       "      <td>Crime, Drama</td>\n",
       "      <td>Francis Ford Coppola</td>\n",
       "      <td>Marlon Brando</td>\n",
       "      <td>13497000.0</td>\n",
       "    </tr>\n",
       "    <tr>\n",
       "      <th>1</th>\n",
       "      <td>The Godfather Part II</td>\n",
       "      <td>1974</td>\n",
       "      <td>202</td>\n",
       "      <td>9.0</td>\n",
       "      <td>90.0</td>\n",
       "      <td>1358608</td>\n",
       "      <td>Crime, Drama</td>\n",
       "      <td>Francis Ford Coppola</td>\n",
       "      <td>Al Pacino</td>\n",
       "      <td>5730000.0</td>\n",
       "    </tr>\n",
       "    <tr>\n",
       "      <th>2</th>\n",
       "      <td>Ordinary People</td>\n",
       "      <td>1980</td>\n",
       "      <td>124</td>\n",
       "      <td>7.7</td>\n",
       "      <td>86.0</td>\n",
       "      <td>56476</td>\n",
       "      <td>Drama</td>\n",
       "      <td>Robert Redford</td>\n",
       "      <td>Donald Sutherland</td>\n",
       "      <td>5480000.0</td>\n",
       "    </tr>\n",
       "    <tr>\n",
       "      <th>3</th>\n",
       "      <td>Lawrence of Arabia</td>\n",
       "      <td>1962</td>\n",
       "      <td>218</td>\n",
       "      <td>8.3</td>\n",
       "      <td>100.0</td>\n",
       "      <td>313044</td>\n",
       "      <td>Adventure, Biography, Drama</td>\n",
       "      <td>David Lean</td>\n",
       "      <td>Peter O'Toole</td>\n",
       "      <td>4482000.0</td>\n",
       "    </tr>\n",
       "    <tr>\n",
       "      <th>5</th>\n",
       "      <td>Close Encounters of the Third Kind</td>\n",
       "      <td>1977</td>\n",
       "      <td>138</td>\n",
       "      <td>7.6</td>\n",
       "      <td>90.0</td>\n",
       "      <td>216050</td>\n",
       "      <td>Drama, Sci-Fi</td>\n",
       "      <td>Steven Spielberg</td>\n",
       "      <td>Richard Dreyfuss</td>\n",
       "      <td>13209000.0</td>\n",
       "    </tr>\n",
       "  </tbody>\n",
       "</table>\n",
       "</div>"
      ],
      "text/plain": [
       "                           Movie Name  Release Year  Duration  IMDB Rating  \\\n",
       "0                       The Godfather          1972       175          9.2   \n",
       "1               The Godfather Part II          1974       202          9.0   \n",
       "2                     Ordinary People          1980       124          7.7   \n",
       "3                  Lawrence of Arabia          1962       218          8.3   \n",
       "5  Close Encounters of the Third Kind          1977       138          7.6   \n",
       "\n",
       "   Metascore    Votes                        Genre              Director  \\\n",
       "0      100.0  2002655                 Crime, Drama  Francis Ford Coppola   \n",
       "1       90.0  1358608                 Crime, Drama  Francis Ford Coppola   \n",
       "2       86.0    56476                        Drama        Robert Redford   \n",
       "3      100.0   313044  Adventure, Biography, Drama            David Lean   \n",
       "5       90.0   216050                Drama, Sci-Fi      Steven Spielberg   \n",
       "\n",
       "                Cast       Gross  \n",
       "0      Marlon Brando  13497000.0  \n",
       "1          Al Pacino   5730000.0  \n",
       "2  Donald Sutherland   5480000.0  \n",
       "3      Peter O'Toole   4482000.0  \n",
       "5   Richard Dreyfuss  13209000.0  "
      ]
     },
     "execution_count": 85,
     "metadata": {},
     "output_type": "execute_result"
    }
   ],
   "source": [
    "df.head()"
   ]
  },
  {
   "cell_type": "markdown",
   "metadata": {},
   "source": [
    "### Getting the Movie Counts from each Decade"
   ]
  },
  {
   "cell_type": "code",
   "execution_count": 102,
   "metadata": {},
   "outputs": [
    {
     "data": {
      "text/html": [
       "<div>\n",
       "<style scoped>\n",
       "    .dataframe tbody tr th:only-of-type {\n",
       "        vertical-align: middle;\n",
       "    }\n",
       "\n",
       "    .dataframe tbody tr th {\n",
       "        vertical-align: top;\n",
       "    }\n",
       "\n",
       "    .dataframe thead th {\n",
       "        text-align: right;\n",
       "    }\n",
       "</style>\n",
       "<table border=\"1\" class=\"dataframe\">\n",
       "  <thead>\n",
       "    <tr style=\"text-align: right;\">\n",
       "      <th></th>\n",
       "      <th>Movie Name</th>\n",
       "      <th>Release Year</th>\n",
       "      <th>Duration</th>\n",
       "      <th>IMDB Rating</th>\n",
       "      <th>Metascore</th>\n",
       "      <th>Votes</th>\n",
       "      <th>Genre</th>\n",
       "      <th>Director</th>\n",
       "      <th>Cast</th>\n",
       "      <th>Gross</th>\n",
       "      <th>Decade</th>\n",
       "    </tr>\n",
       "  </thead>\n",
       "  <tbody>\n",
       "    <tr>\n",
       "      <th>0</th>\n",
       "      <td>The Godfather</td>\n",
       "      <td>1972</td>\n",
       "      <td>175</td>\n",
       "      <td>9.2</td>\n",
       "      <td>100.0</td>\n",
       "      <td>2002655</td>\n",
       "      <td>Crime, Drama</td>\n",
       "      <td>Francis Ford Coppola</td>\n",
       "      <td>Marlon Brando</td>\n",
       "      <td>13497000.0</td>\n",
       "      <td>'70s</td>\n",
       "    </tr>\n",
       "    <tr>\n",
       "      <th>1</th>\n",
       "      <td>The Godfather Part II</td>\n",
       "      <td>1974</td>\n",
       "      <td>202</td>\n",
       "      <td>9.0</td>\n",
       "      <td>90.0</td>\n",
       "      <td>1358608</td>\n",
       "      <td>Crime, Drama</td>\n",
       "      <td>Francis Ford Coppola</td>\n",
       "      <td>Al Pacino</td>\n",
       "      <td>5730000.0</td>\n",
       "      <td>'70s</td>\n",
       "    </tr>\n",
       "    <tr>\n",
       "      <th>2</th>\n",
       "      <td>Ordinary People</td>\n",
       "      <td>1980</td>\n",
       "      <td>124</td>\n",
       "      <td>7.7</td>\n",
       "      <td>86.0</td>\n",
       "      <td>56476</td>\n",
       "      <td>Drama</td>\n",
       "      <td>Robert Redford</td>\n",
       "      <td>Donald Sutherland</td>\n",
       "      <td>5480000.0</td>\n",
       "      <td>'80s</td>\n",
       "    </tr>\n",
       "    <tr>\n",
       "      <th>3</th>\n",
       "      <td>Lawrence of Arabia</td>\n",
       "      <td>1962</td>\n",
       "      <td>218</td>\n",
       "      <td>8.3</td>\n",
       "      <td>100.0</td>\n",
       "      <td>313044</td>\n",
       "      <td>Adventure, Biography, Drama</td>\n",
       "      <td>David Lean</td>\n",
       "      <td>Peter O'Toole</td>\n",
       "      <td>4482000.0</td>\n",
       "      <td>'60s</td>\n",
       "    </tr>\n",
       "    <tr>\n",
       "      <th>5</th>\n",
       "      <td>Close Encounters of the Third Kind</td>\n",
       "      <td>1977</td>\n",
       "      <td>138</td>\n",
       "      <td>7.6</td>\n",
       "      <td>90.0</td>\n",
       "      <td>216050</td>\n",
       "      <td>Drama, Sci-Fi</td>\n",
       "      <td>Steven Spielberg</td>\n",
       "      <td>Richard Dreyfuss</td>\n",
       "      <td>13209000.0</td>\n",
       "      <td>'70s</td>\n",
       "    </tr>\n",
       "  </tbody>\n",
       "</table>\n",
       "</div>"
      ],
      "text/plain": [
       "                           Movie Name  Release Year  Duration  IMDB Rating  \\\n",
       "0                       The Godfather          1972       175          9.2   \n",
       "1               The Godfather Part II          1974       202          9.0   \n",
       "2                     Ordinary People          1980       124          7.7   \n",
       "3                  Lawrence of Arabia          1962       218          8.3   \n",
       "5  Close Encounters of the Third Kind          1977       138          7.6   \n",
       "\n",
       "   Metascore    Votes                        Genre              Director  \\\n",
       "0      100.0  2002655                 Crime, Drama  Francis Ford Coppola   \n",
       "1       90.0  1358608                 Crime, Drama  Francis Ford Coppola   \n",
       "2       86.0    56476                        Drama        Robert Redford   \n",
       "3      100.0   313044  Adventure, Biography, Drama            David Lean   \n",
       "5       90.0   216050                Drama, Sci-Fi      Steven Spielberg   \n",
       "\n",
       "                Cast       Gross Decade  \n",
       "0      Marlon Brando  13497000.0   '70s  \n",
       "1          Al Pacino   5730000.0   '70s  \n",
       "2  Donald Sutherland   5480000.0   '80s  \n",
       "3      Peter O'Toole   4482000.0   '60s  \n",
       "5   Richard Dreyfuss  13209000.0   '70s  "
      ]
     },
     "execution_count": 102,
     "metadata": {},
     "output_type": "execute_result"
    }
   ],
   "source": [
    "df['Decade'] = df['Release Year'].apply(lambda x: f\"'{str(x)[2:3]}0s\")\n",
    "\n",
    "\n",
    "df.head()"
   ]
  },
  {
   "cell_type": "code",
   "execution_count": 109,
   "metadata": {},
   "outputs": [
    {
     "data": {
      "text/html": [
       "<div>\n",
       "<style scoped>\n",
       "    .dataframe tbody tr th:only-of-type {\n",
       "        vertical-align: middle;\n",
       "    }\n",
       "\n",
       "    .dataframe tbody tr th {\n",
       "        vertical-align: top;\n",
       "    }\n",
       "\n",
       "    .dataframe thead th {\n",
       "        text-align: right;\n",
       "    }\n",
       "</style>\n",
       "<table border=\"1\" class=\"dataframe\">\n",
       "  <thead>\n",
       "    <tr style=\"text-align: right;\">\n",
       "      <th></th>\n",
       "      <th>Decade</th>\n",
       "      <th>Count</th>\n",
       "    </tr>\n",
       "  </thead>\n",
       "  <tbody>\n",
       "    <tr>\n",
       "      <th>0</th>\n",
       "      <td>'00s</td>\n",
       "      <td>960</td>\n",
       "    </tr>\n",
       "    <tr>\n",
       "      <th>1</th>\n",
       "      <td>'10s</td>\n",
       "      <td>54</td>\n",
       "    </tr>\n",
       "    <tr>\n",
       "      <th>2</th>\n",
       "      <td>'20s</td>\n",
       "      <td>4</td>\n",
       "    </tr>\n",
       "    <tr>\n",
       "      <th>3</th>\n",
       "      <td>'30s</td>\n",
       "      <td>10</td>\n",
       "    </tr>\n",
       "    <tr>\n",
       "      <th>4</th>\n",
       "      <td>'40s</td>\n",
       "      <td>12</td>\n",
       "    </tr>\n",
       "    <tr>\n",
       "      <th>5</th>\n",
       "      <td>'50s</td>\n",
       "      <td>27</td>\n",
       "    </tr>\n",
       "    <tr>\n",
       "      <th>6</th>\n",
       "      <td>'60s</td>\n",
       "      <td>54</td>\n",
       "    </tr>\n",
       "    <tr>\n",
       "      <th>7</th>\n",
       "      <td>'70s</td>\n",
       "      <td>75</td>\n",
       "    </tr>\n",
       "    <tr>\n",
       "      <th>8</th>\n",
       "      <td>'80s</td>\n",
       "      <td>207</td>\n",
       "    </tr>\n",
       "    <tr>\n",
       "      <th>9</th>\n",
       "      <td>'90s</td>\n",
       "      <td>439</td>\n",
       "    </tr>\n",
       "  </tbody>\n",
       "</table>\n",
       "</div>"
      ],
      "text/plain": [
       "  Decade  Count\n",
       "0   '00s    960\n",
       "1   '10s     54\n",
       "2   '20s      4\n",
       "3   '30s     10\n",
       "4   '40s     12\n",
       "5   '50s     27\n",
       "6   '60s     54\n",
       "7   '70s     75\n",
       "8   '80s    207\n",
       "9   '90s    439"
      ]
     },
     "execution_count": 109,
     "metadata": {},
     "output_type": "execute_result"
    }
   ],
   "source": [
    "decade_counts = df['Decade'].value_counts().sort_index().reset_index()\n",
    "decade_counts.columns = ['Decade' ,'Count']\n",
    "\n",
    "decade_counts"
   ]
  },
  {
   "cell_type": "code",
   "execution_count": 111,
   "metadata": {},
   "outputs": [
    {
     "data": {
      "text/plain": [
       "Text(0.5, 0, 'Decades')"
      ]
     },
     "execution_count": 111,
     "metadata": {},
     "output_type": "execute_result"
    },
    {
     "data": {
      "image/png": "[encoded data removed]",
      "text/plain": [
       "<Figure size 640x480 with 1 Axes>"
      ]
     },
     "metadata": {},
     "output_type": "display_data"
    }
   ],
   "source": [
    "sns.barplot(x='Decade', y= 'Count', data=decade_counts, \n",
    "    order=['\\'30s', '\\'40s', '\\'50s', '\\'60s', '\\'70s', '\\'80s', '\\'90s', '\\'00s', '\\'10s', '\\'20s'])\n",
    "plt.title('Number of movies on IMDB top 2000 from each decade')\n",
    "plt.xlabel('Decades')"
   ]
  },
  {
   "cell_type": "markdown",
   "metadata": {},
   "source": [
    "### Directors with the most amount of movies"
   ]
  },
  {
   "cell_type": "code",
   "execution_count": 113,
   "metadata": {},
   "outputs": [
    {
     "data": {
      "text/plain": [
       "Director\n",
       "Steven Spielberg    22\n",
       "Ridley Scott        14\n",
       "Clint Eastwood      13\n",
       "Name: count, dtype: int64"
      ]
     },
     "execution_count": 113,
     "metadata": {},
     "output_type": "execute_result"
    }
   ],
   "source": [
    "director_counts = df['Director'].value_counts()\n",
    "director_counts.head(3)"
   ]
  },
  {
   "cell_type": "code",
   "execution_count": 114,
   "metadata": {},
   "outputs": [
    {
     "data": {
      "text/html": [
       "<div>\n",
       "<style scoped>\n",
       "    .dataframe tbody tr th:only-of-type {\n",
       "        vertical-align: middle;\n",
       "    }\n",
       "\n",
       "    .dataframe tbody tr th {\n",
       "        vertical-align: top;\n",
       "    }\n",
       "\n",
       "    .dataframe thead th {\n",
       "        text-align: right;\n",
       "    }\n",
       "</style>\n",
       "<table border=\"1\" class=\"dataframe\">\n",
       "  <thead>\n",
       "    <tr style=\"text-align: right;\">\n",
       "      <th></th>\n",
       "      <th>Movie Name</th>\n",
       "      <th>Release Year</th>\n",
       "      <th>Duration</th>\n",
       "      <th>IMDB Rating</th>\n",
       "      <th>Metascore</th>\n",
       "      <th>Votes</th>\n",
       "      <th>Genre</th>\n",
       "      <th>Director</th>\n",
       "      <th>Cast</th>\n",
       "      <th>Gross</th>\n",
       "      <th>Decade</th>\n",
       "    </tr>\n",
       "  </thead>\n",
       "  <tbody>\n",
       "    <tr>\n",
       "      <th>5</th>\n",
       "      <td>Close Encounters of the Third Kind</td>\n",
       "      <td>1977</td>\n",
       "      <td>138</td>\n",
       "      <td>7.6</td>\n",
       "      <td>90.0</td>\n",
       "      <td>216050</td>\n",
       "      <td>Drama, Sci-Fi</td>\n",
       "      <td>Steven Spielberg</td>\n",
       "      <td>Richard Dreyfuss</td>\n",
       "      <td>13209000.0</td>\n",
       "      <td>'70s</td>\n",
       "    </tr>\n",
       "    <tr>\n",
       "      <th>50</th>\n",
       "      <td>Jaws</td>\n",
       "      <td>1975</td>\n",
       "      <td>124</td>\n",
       "      <td>8.1</td>\n",
       "      <td>87.0</td>\n",
       "      <td>656761</td>\n",
       "      <td>Adventure, Mystery, Thriller</td>\n",
       "      <td>Steven Spielberg</td>\n",
       "      <td>Roy Scheider</td>\n",
       "      <td>26000000.0</td>\n",
       "      <td>'70s</td>\n",
       "    </tr>\n",
       "    <tr>\n",
       "      <th>73</th>\n",
       "      <td>Raiders of the Lost Ark</td>\n",
       "      <td>1981</td>\n",
       "      <td>115</td>\n",
       "      <td>8.4</td>\n",
       "      <td>86.0</td>\n",
       "      <td>1033883</td>\n",
       "      <td>Action, Adventure</td>\n",
       "      <td>Steven Spielberg</td>\n",
       "      <td>Harrison Ford</td>\n",
       "      <td>24816000.0</td>\n",
       "      <td>'80s</td>\n",
       "    </tr>\n",
       "    <tr>\n",
       "      <th>334</th>\n",
       "      <td>Indiana Jones and the Last Crusade</td>\n",
       "      <td>1989</td>\n",
       "      <td>127</td>\n",
       "      <td>8.2</td>\n",
       "      <td>65.0</td>\n",
       "      <td>808466</td>\n",
       "      <td>Action, Adventure</td>\n",
       "      <td>Steven Spielberg</td>\n",
       "      <td>Harrison Ford</td>\n",
       "      <td>19717000.0</td>\n",
       "      <td>'80s</td>\n",
       "    </tr>\n",
       "    <tr>\n",
       "      <th>339</th>\n",
       "      <td>Empire of the Sun</td>\n",
       "      <td>1987</td>\n",
       "      <td>153</td>\n",
       "      <td>7.7</td>\n",
       "      <td>62.0</td>\n",
       "      <td>133909</td>\n",
       "      <td>Drama, War</td>\n",
       "      <td>Steven Spielberg</td>\n",
       "      <td>Christian Bale</td>\n",
       "      <td>2224000.0</td>\n",
       "      <td>'80s</td>\n",
       "    </tr>\n",
       "    <tr>\n",
       "      <th>350</th>\n",
       "      <td>E.T. the Extra-Terrestrial</td>\n",
       "      <td>1982</td>\n",
       "      <td>115</td>\n",
       "      <td>7.9</td>\n",
       "      <td>92.0</td>\n",
       "      <td>435984</td>\n",
       "      <td>Adventure, Family, Sci-Fi</td>\n",
       "      <td>Steven Spielberg</td>\n",
       "      <td>Henry Thomas</td>\n",
       "      <td>43511000.0</td>\n",
       "      <td>'80s</td>\n",
       "    </tr>\n",
       "    <tr>\n",
       "      <th>424</th>\n",
       "      <td>Always</td>\n",
       "      <td>1989</td>\n",
       "      <td>122</td>\n",
       "      <td>6.4</td>\n",
       "      <td>50.0</td>\n",
       "      <td>32712</td>\n",
       "      <td>Drama, Fantasy, Romance</td>\n",
       "      <td>Steven Spielberg</td>\n",
       "      <td>Richard Dreyfuss</td>\n",
       "      <td>4386000.0</td>\n",
       "      <td>'80s</td>\n",
       "    </tr>\n",
       "    <tr>\n",
       "      <th>427</th>\n",
       "      <td>Hook</td>\n",
       "      <td>1991</td>\n",
       "      <td>142</td>\n",
       "      <td>6.8</td>\n",
       "      <td>52.0</td>\n",
       "      <td>272416</td>\n",
       "      <td>Adventure, Comedy, Family</td>\n",
       "      <td>Steven Spielberg</td>\n",
       "      <td>Dustin Hoffman</td>\n",
       "      <td>11965000.0</td>\n",
       "      <td>'90s</td>\n",
       "    </tr>\n",
       "    <tr>\n",
       "      <th>430</th>\n",
       "      <td>Indiana Jones and the Temple of Doom</td>\n",
       "      <td>1984</td>\n",
       "      <td>118</td>\n",
       "      <td>7.5</td>\n",
       "      <td>57.0</td>\n",
       "      <td>533755</td>\n",
       "      <td>Action, Adventure</td>\n",
       "      <td>Steven Spielberg</td>\n",
       "      <td>Harrison Ford</td>\n",
       "      <td>17987000.0</td>\n",
       "      <td>'80s</td>\n",
       "    </tr>\n",
       "    <tr>\n",
       "      <th>451</th>\n",
       "      <td>The Color Purple</td>\n",
       "      <td>1985</td>\n",
       "      <td>154</td>\n",
       "      <td>7.7</td>\n",
       "      <td>78.0</td>\n",
       "      <td>96890</td>\n",
       "      <td>Drama</td>\n",
       "      <td>Steven Spielberg</td>\n",
       "      <td>Danny Glover</td>\n",
       "      <td>9847000.0</td>\n",
       "      <td>'80s</td>\n",
       "    </tr>\n",
       "    <tr>\n",
       "      <th>513</th>\n",
       "      <td>Schindler's List</td>\n",
       "      <td>1993</td>\n",
       "      <td>195</td>\n",
       "      <td>9.0</td>\n",
       "      <td>95.0</td>\n",
       "      <td>1444171</td>\n",
       "      <td>Biography, Drama, History</td>\n",
       "      <td>Steven Spielberg</td>\n",
       "      <td>Liam Neeson</td>\n",
       "      <td>9690000.0</td>\n",
       "      <td>'90s</td>\n",
       "    </tr>\n",
       "    <tr>\n",
       "      <th>554</th>\n",
       "      <td>Jurassic Park</td>\n",
       "      <td>1993</td>\n",
       "      <td>127</td>\n",
       "      <td>8.2</td>\n",
       "      <td>68.0</td>\n",
       "      <td>1062224</td>\n",
       "      <td>Action, Adventure, Sci-Fi</td>\n",
       "      <td>Steven Spielberg</td>\n",
       "      <td>Sam Neill</td>\n",
       "      <td>40245000.0</td>\n",
       "      <td>'90s</td>\n",
       "    </tr>\n",
       "    <tr>\n",
       "      <th>573</th>\n",
       "      <td>The Lost World: Jurassic Park</td>\n",
       "      <td>1997</td>\n",
       "      <td>129</td>\n",
       "      <td>6.5</td>\n",
       "      <td>59.0</td>\n",
       "      <td>442497</td>\n",
       "      <td>Action, Adventure, Sci-Fi</td>\n",
       "      <td>Steven Spielberg</td>\n",
       "      <td>Jeff Goldblum</td>\n",
       "      <td>22909000.0</td>\n",
       "      <td>'90s</td>\n",
       "    </tr>\n",
       "    <tr>\n",
       "      <th>699</th>\n",
       "      <td>Amistad</td>\n",
       "      <td>1997</td>\n",
       "      <td>155</td>\n",
       "      <td>7.3</td>\n",
       "      <td>64.0</td>\n",
       "      <td>82516</td>\n",
       "      <td>Biography, Drama, History</td>\n",
       "      <td>Steven Spielberg</td>\n",
       "      <td>Djimon Hounsou</td>\n",
       "      <td>4418000.0</td>\n",
       "      <td>'90s</td>\n",
       "    </tr>\n",
       "    <tr>\n",
       "      <th>755</th>\n",
       "      <td>A.I. Artificial Intelligence</td>\n",
       "      <td>2001</td>\n",
       "      <td>146</td>\n",
       "      <td>7.2</td>\n",
       "      <td>65.0</td>\n",
       "      <td>322235</td>\n",
       "      <td>Adventure, Drama, Sci-Fi</td>\n",
       "      <td>Steven Spielberg</td>\n",
       "      <td>Haley Joel Osment</td>\n",
       "      <td>7862000.0</td>\n",
       "      <td>'00s</td>\n",
       "    </tr>\n",
       "    <tr>\n",
       "      <th>761</th>\n",
       "      <td>Saving Private Ryan</td>\n",
       "      <td>1998</td>\n",
       "      <td>169</td>\n",
       "      <td>8.6</td>\n",
       "      <td>91.0</td>\n",
       "      <td>1490584</td>\n",
       "      <td>Drama, War</td>\n",
       "      <td>Steven Spielberg</td>\n",
       "      <td>Tom Hanks</td>\n",
       "      <td>21654000.0</td>\n",
       "      <td>'90s</td>\n",
       "    </tr>\n",
       "    <tr>\n",
       "      <th>1021</th>\n",
       "      <td>Minority Report</td>\n",
       "      <td>2002</td>\n",
       "      <td>145</td>\n",
       "      <td>7.6</td>\n",
       "      <td>80.0</td>\n",
       "      <td>582608</td>\n",
       "      <td>Action, Crime, Mystery</td>\n",
       "      <td>Steven Spielberg</td>\n",
       "      <td>Tom Cruise</td>\n",
       "      <td>13207000.0</td>\n",
       "      <td>'00s</td>\n",
       "    </tr>\n",
       "    <tr>\n",
       "      <th>1032</th>\n",
       "      <td>The Terminal</td>\n",
       "      <td>2004</td>\n",
       "      <td>128</td>\n",
       "      <td>7.4</td>\n",
       "      <td>55.0</td>\n",
       "      <td>493561</td>\n",
       "      <td>Comedy, Drama, Romance</td>\n",
       "      <td>Steven Spielberg</td>\n",
       "      <td>Tom Hanks</td>\n",
       "      <td>7787000.0</td>\n",
       "      <td>'00s</td>\n",
       "    </tr>\n",
       "    <tr>\n",
       "      <th>1048</th>\n",
       "      <td>Catch Me If You Can</td>\n",
       "      <td>2002</td>\n",
       "      <td>141</td>\n",
       "      <td>8.1</td>\n",
       "      <td>75.0</td>\n",
       "      <td>1089154</td>\n",
       "      <td>Biography, Crime, Drama</td>\n",
       "      <td>Steven Spielberg</td>\n",
       "      <td>Leonardo DiCaprio</td>\n",
       "      <td>16462000.0</td>\n",
       "      <td>'00s</td>\n",
       "    </tr>\n",
       "    <tr>\n",
       "      <th>1272</th>\n",
       "      <td>War of the Worlds</td>\n",
       "      <td>2005</td>\n",
       "      <td>116</td>\n",
       "      <td>6.5</td>\n",
       "      <td>73.0</td>\n",
       "      <td>473724</td>\n",
       "      <td>Action, Adventure, Sci-Fi</td>\n",
       "      <td>Steven Spielberg</td>\n",
       "      <td>Tom Cruise</td>\n",
       "      <td>23428000.0</td>\n",
       "      <td>'00s</td>\n",
       "    </tr>\n",
       "    <tr>\n",
       "      <th>1307</th>\n",
       "      <td>Munich</td>\n",
       "      <td>2005</td>\n",
       "      <td>164</td>\n",
       "      <td>7.5</td>\n",
       "      <td>74.0</td>\n",
       "      <td>237752</td>\n",
       "      <td>Action, Drama, History</td>\n",
       "      <td>Steven Spielberg</td>\n",
       "      <td>Eric Bana</td>\n",
       "      <td>4740000.0</td>\n",
       "      <td>'00s</td>\n",
       "    </tr>\n",
       "    <tr>\n",
       "      <th>1526</th>\n",
       "      <td>Indiana Jones and the Kingdom of the Crystal S...</td>\n",
       "      <td>2008</td>\n",
       "      <td>122</td>\n",
       "      <td>6.2</td>\n",
       "      <td>65.0</td>\n",
       "      <td>490218</td>\n",
       "      <td>Action, Adventure</td>\n",
       "      <td>Steven Spielberg</td>\n",
       "      <td>Harrison Ford</td>\n",
       "      <td>31710000.0</td>\n",
       "      <td>'00s</td>\n",
       "    </tr>\n",
       "  </tbody>\n",
       "</table>\n",
       "</div>"
      ],
      "text/plain": [
       "                                             Movie Name  Release Year  \\\n",
       "5                    Close Encounters of the Third Kind          1977   \n",
       "50                                                 Jaws          1975   \n",
       "73                              Raiders of the Lost Ark          1981   \n",
       "334                  Indiana Jones and the Last Crusade          1989   \n",
       "339                                   Empire of the Sun          1987   \n",
       "350                          E.T. the Extra-Terrestrial          1982   \n",
       "424                                              Always          1989   \n",
       "427                                                Hook          1991   \n",
       "430                Indiana Jones and the Temple of Doom          1984   \n",
       "451                                    The Color Purple          1985   \n",
       "513                                    Schindler's List          1993   \n",
       "554                                       Jurassic Park          1993   \n",
       "573                       The Lost World: Jurassic Park          1997   \n",
       "699                                             Amistad          1997   \n",
       "755                        A.I. Artificial Intelligence          2001   \n",
       "761                                 Saving Private Ryan          1998   \n",
       "1021                                    Minority Report          2002   \n",
       "1032                                       The Terminal          2004   \n",
       "1048                                Catch Me If You Can          2002   \n",
       "1272                                  War of the Worlds          2005   \n",
       "1307                                             Munich          2005   \n",
       "1526  Indiana Jones and the Kingdom of the Crystal S...          2008   \n",
       "\n",
       "      Duration  IMDB Rating  Metascore    Votes                         Genre  \\\n",
       "5          138          7.6       90.0   216050                 Drama, Sci-Fi   \n",
       "50         124          8.1       87.0   656761  Adventure, Mystery, Thriller   \n",
       "73         115          8.4       86.0  1033883             Action, Adventure   \n",
       "334        127          8.2       65.0   808466             Action, Adventure   \n",
       "339        153          7.7       62.0   133909                    Drama, War   \n",
       "350        115          7.9       92.0   435984     Adventure, Family, Sci-Fi   \n",
       "424        122          6.4       50.0    32712       Drama, Fantasy, Romance   \n",
       "427        142          6.8       52.0   272416     Adventure, Comedy, Family   \n",
       "430        118          7.5       57.0   533755             Action, Adventure   \n",
       "451        154          7.7       78.0    96890                         Drama   \n",
       "513        195          9.0       95.0  1444171     Biography, Drama, History   \n",
       "554        127          8.2       68.0  1062224     Action, Adventure, Sci-Fi   \n",
       "573        129          6.5       59.0   442497     Action, Adventure, Sci-Fi   \n",
       "699        155          7.3       64.0    82516     Biography, Drama, History   \n",
       "755        146          7.2       65.0   322235      Adventure, Drama, Sci-Fi   \n",
       "761        169          8.6       91.0  1490584                    Drama, War   \n",
       "1021       145          7.6       80.0   582608        Action, Crime, Mystery   \n",
       "1032       128          7.4       55.0   493561        Comedy, Drama, Romance   \n",
       "1048       141          8.1       75.0  1089154       Biography, Crime, Drama   \n",
       "1272       116          6.5       73.0   473724     Action, Adventure, Sci-Fi   \n",
       "1307       164          7.5       74.0   237752        Action, Drama, History   \n",
       "1526       122          6.2       65.0   490218             Action, Adventure   \n",
       "\n",
       "              Director               Cast       Gross Decade  \n",
       "5     Steven Spielberg   Richard Dreyfuss  13209000.0   '70s  \n",
       "50    Steven Spielberg       Roy Scheider  26000000.0   '70s  \n",
       "73    Steven Spielberg      Harrison Ford  24816000.0   '80s  \n",
       "334   Steven Spielberg      Harrison Ford  19717000.0   '80s  \n",
       "339   Steven Spielberg     Christian Bale   2224000.0   '80s  \n",
       "350   Steven Spielberg       Henry Thomas  43511000.0   '80s  \n",
       "424   Steven Spielberg   Richard Dreyfuss   4386000.0   '80s  \n",
       "427   Steven Spielberg     Dustin Hoffman  11965000.0   '90s  \n",
       "430   Steven Spielberg      Harrison Ford  17987000.0   '80s  \n",
       "451   Steven Spielberg       Danny Glover   9847000.0   '80s  \n",
       "513   Steven Spielberg        Liam Neeson   9690000.0   '90s  \n",
       "554   Steven Spielberg          Sam Neill  40245000.0   '90s  \n",
       "573   Steven Spielberg      Jeff Goldblum  22909000.0   '90s  \n",
       "699   Steven Spielberg     Djimon Hounsou   4418000.0   '90s  \n",
       "755   Steven Spielberg  Haley Joel Osment   7862000.0   '00s  \n",
       "761   Steven Spielberg          Tom Hanks  21654000.0   '90s  \n",
       "1021  Steven Spielberg         Tom Cruise  13207000.0   '00s  \n",
       "1032  Steven Spielberg          Tom Hanks   7787000.0   '00s  \n",
       "1048  Steven Spielberg  Leonardo DiCaprio  16462000.0   '00s  \n",
       "1272  Steven Spielberg         Tom Cruise  23428000.0   '00s  \n",
       "1307  Steven Spielberg          Eric Bana   4740000.0   '00s  \n",
       "1526  Steven Spielberg      Harrison Ford  31710000.0   '00s  "
      ]
     },
     "execution_count": 114,
     "metadata": {},
     "output_type": "execute_result"
    }
   ],
   "source": [
    "spielberg_movies = df[df['Director'] == 'Steven Spielberg']\n",
    "spielberg_movies"
   ]
  },
  {
   "cell_type": "code",
   "execution_count": 115,
   "metadata": {},
   "outputs": [
    {
     "name": "stdout",
     "output_type": "stream",
     "text": [
      "Average IMDB rating for movies directed by Steven Speilberg: 7.563636363636363\n",
      "Average IMDB rating for movies directed by Ridley Scott: 7.314285714285714\n",
      "Average IMDB rating for movies directed by Clint Eastwood: 7.499999999999999\n"
     ]
    }
   ],
   "source": [
    "average_spielberg = df[df['Director'] == 'Steven Spielberg']['IMDB Rating'].mean()\n",
    "average_scott = df[df['Director'] == 'Ridley Scott']['IMDB Rating'].mean()\n",
    "average_eastwood = df[df['Director'] == 'Clint Eastwood']['IMDB Rating'].mean()\n",
    "\n",
    "print(f\"Average IMDB rating for movies directed by Steven Speilberg: {average_spielberg}\")\n",
    "print(f\"Average IMDB rating for movies directed by Ridley Scott: {average_scott}\")\n",
    "print(f\"Average IMDB rating for movies directed by Clint Eastwood: {average_eastwood}\")"
   ]
  },
  {
   "cell_type": "markdown",
   "metadata": {},
   "source": [
    "### Relationship between IMDB scores and gross"
   ]
  },
  {
   "cell_type": "code",
   "execution_count": 118,
   "metadata": {},
   "outputs": [
    {
     "data": {
      "text/plain": [
       "<Axes: xlabel='IMDB Rating', ylabel='Gross'>"
      ]
     },
     "execution_count": 118,
     "metadata": {},
     "output_type": "execute_result"
    },
    {
     "data": {
      "image/png": "[encoded data removed]",
      "text/plain": [
       "<Figure size 640x480 with 1 Axes>"
      ]
     },
     "metadata": {},
     "output_type": "display_data"
    }
   ],
   "source": [
    "sns.regplot(x='IMDB Rating', y= 'Gross', data= df, color='green', marker= '+')"
   ]
  },
  {
   "cell_type": "markdown",
   "metadata": {},
   "source": [
    "### Gross and release year"
   ]
  },
  {
   "cell_type": "code",
   "execution_count": 120,
   "metadata": {},
   "outputs": [
    {
     "data": {
      "text/plain": [
       "<Axes: xlabel='Release Year', ylabel='Gross'>"
      ]
     },
     "execution_count": 120,
     "metadata": {},
     "output_type": "execute_result"
    },
    {
     "data": {
      "image/png": "[encoded data removed]",
      "text/plain": [
       "<Figure size 640x480 with 1 Axes>"
      ]
     },
     "metadata": {},
     "output_type": "display_data"
    }
   ],
   "source": [
    "sns.regplot(x='Release Year', y= 'Gross', data= df, marker= '+')"
   ]
  },
  {
   "cell_type": "markdown",
   "metadata": {},
   "source": [
    "### Top 10 Movies by Gross"
   ]
  },
  {
   "cell_type": "code",
   "execution_count": 122,
   "metadata": {},
   "outputs": [
    {
     "data": {
      "text/plain": [
       "Text(0.5, 1.0, 'Top 10 Movies by Gross')"
      ]
     },
     "execution_count": 122,
     "metadata": {},
     "output_type": "execute_result"
    },
    {
     "data": {
      "image/png": "[encoded data removed]",
      "text/plain": [
       "<Figure size 640x480 with 1 Axes>"
      ]
     },
     "metadata": {},
     "output_type": "display_data"
    }
   ],
   "source": [
    "data = df.sort_values(by= 'Gross', ascending= False, ignore_index=True)\n",
    "data = data[['Movie Name', 'Gross']].head(10)\n",
    "sns.barplot(y='Movie Name', x= 'Gross', data= data)\n",
    "plt.title('Top 10 Movies by Gross')"
   ]
  },
  {
   "cell_type": "code",
   "execution_count": null,
   "metadata": {},
   "outputs": [],
   "source": []
  }
 ],
 "metadata": {
  "interpreter": {
   "hash": "e72766c04f4176b504484ba12eaea3b7643c312c992bd8911ef7516263110184"
  },
  "kernelspec": {
   "display_name": "Python 3.11.5 ('base')",
   "language": "python",
   "name": "python3"
  },
  "language_info": {
   "codemirror_mode": {
    "name": "ipython",
    "version": 3
   },
   "file_extension": ".py",
   "mimetype": "text/x-python",
   "name": "python",
   "nbconvert_exporter": "python",
   "pygments_lexer": "ipython3",
   "version": "3.11.5"
  },
  "orig_nbformat": 4
 },
 "nbformat": 4,
 "nbformat_minor": 2
}
